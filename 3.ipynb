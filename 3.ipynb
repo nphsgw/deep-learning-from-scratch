{
 "cells": [
  {
   "cell_type": "code",
   "execution_count": 13,
   "metadata": {},
   "outputs": [],
   "source": [
    "import sys, os\n",
    "\n",
    "sys.path.append(os.pardir)\n",
    "from dataset.mnist import load_mnist\n",
    "import numpy as np\n",
    "from PIL import Image\n",
    "import pickle\n",
    "from common.functions import sigmoid, softmax"
   ]
  },
  {
   "cell_type": "code",
   "execution_count": 14,
   "metadata": {},
   "outputs": [
    {
     "name": "stdout",
     "output_type": "stream",
     "text": [
      "5\n",
      "(784,)\n",
      "(28, 28)\n"
     ]
    },
    {
     "data": {
      "image/png": "[encoded data removed]",
      "text/plain": [
       "<PIL.Image.Image image mode=L size=28x28>"
      ]
     },
     "metadata": {},
     "output_type": "display_data"
    }
   ],
   "source": [
    "\n",
    "def img_show(img):\n",
    "    pil_img = Image.fromarray(np.uint8(img))\n",
    "    pil_img.show()\n",
    "\n",
    "\n",
    "# normalize:入力画像を0~1に正規化する。\n",
    "# flatten:画像を1次元配列に変換する\n",
    "# noe_hot_label:ラベルをone hot表現（0か1)にする\n",
    "#(訓練画像、訓練ラベル),(テスト画像,テストラベル)を出力する\n",
    "(x_train, t_train), (x_test, t_test) = load_mnist(flatten=True, normalize=False)\n",
    "img = x_train[0]\n",
    "label = t_train[0]\n",
    "print(label)\n",
    "\n",
    "# 1次元の配列の次元数が表示\n",
    "print(img.shape)\n",
    "# 2次元に再変換\n",
    "img = img.reshape(28, 28)\n",
    "# 2次元配列の次元数が表示\n",
    "print(img.shape)\n",
    "img_show(img)\n"
   ]
  },
  {
   "cell_type": "code",
   "execution_count": 15,
   "metadata": {},
   "outputs": [
    {
     "name": "stdout",
     "output_type": "stream",
     "text": [
      "Accuracy:0.9352\n"
     ]
    }
   ],
   "source": [
    "\n",
    "\n",
    "\n",
    "def get_data():\n",
    "    (x_train, t_train), (x_test, t_test) = load_mnist(\n",
    "        normalize=True, flatten=True, one_hot_label=False\n",
    "    )\n",
    "    # テスト画像とラベルだけを返す\n",
    "    return x_test, t_test\n",
    "\n",
    "\n",
    "def init_network():\n",
    "    with open(\"./ch03/sample_weight.pkl\", \"rb\") as f:\n",
    "        network = pickle.load(f)\n",
    "    return network\n",
    "\n",
    "\n",
    "def predict(network, x):\n",
    "    W1, W2, W3 = network[\"W1\"], network[\"W2\"], network[\"W3\"]\n",
    "    b1, b2, b3 = network[\"b1\"], network[\"b2\"], network[\"b3\"]\n",
    "    a1 = np.dot(x, W1) + b1\n",
    "    z1 = sigmoid(a1)\n",
    "    a2 = np.dot(z1, W2) + b2\n",
    "    z2 = sigmoid(a2)\n",
    "    a3 = np.dot(z2, W3) + b3\n",
    "    y = softmax(a3)\n",
    "\n",
    "    return y\n",
    "\n",
    "# テスト画像とラベルを取得\n",
    "x, t = get_data()\n",
    "# 学習済みのパラメータを取得\n",
    "network = init_network()\n",
    "batch_size = 100\n",
    "accuracy_cnt = 0\n",
    "# 分類データが正確に分類できるかを推論する\n",
    "for i in range(0,len(x),batch_size):\n",
    "    # iからi+batch_sizeのデータを取得\n",
    "    x_batch = x[i:i+batch_size]\n",
    "    # テスト画像を学習モデルに適用し、分類させる。\n",
    "    y_batch = predict(network, x_batch)\n",
    "    # yリストの中から、最大の確率を取得\n",
    "    # axis=1とすることで、多次元配列の1次元目の中から最大の物を抽出\n",
    "    p = np.argmax(y_batch,axis=1)\n",
    "    # 最大確率となるインデックスがラベルデータと一致するか判定\n",
    "    #　p==t[i:i+batch_size]とすると、pに一致する部分がTrue,不一致がFalseとなる。\n",
    "    # このようなboolの配列が返却され、そのsumを取るとTrueの個数として取得できる。\n",
    "    accuracy_cnt+=np.sum(p==t[i:i+batch_size])\n",
    "\n",
    "print(\"Accuracy:\" + str(float(accuracy_cnt) / len(x)))\n"
   ]
  },
  {
   "cell_type": "code",
   "execution_count": null,
   "metadata": {},
   "outputs": [],
   "source": []
  }
 ],
 "metadata": {
  "kernelspec": {
   "display_name": "Python 3.8.10 64-bit",
   "language": "python",
   "name": "python3"
  },
  "language_info": {
   "codemirror_mode": {
    "name": "ipython",
    "version": 3
   },
   "file_extension": ".py",
   "mimetype": "text/x-python",
   "name": "python",
   "nbconvert_exporter": "python",
   "pygments_lexer": "ipython3",
   "version": "3.8.10"
  },
  "orig_nbformat": 4,
  "vscode": {
   "interpreter": {
    "hash": "916dbcbb3f70747c44a77c7bcd40155683ae19c65e1c03b4aa3499c5328201f1"
   }
  }
 },
 "nbformat": 4,
 "nbformat_minor": 2
}
