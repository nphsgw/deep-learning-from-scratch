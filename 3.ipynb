{
 "cells": [
  {
   "cell_type": "markdown",
   "metadata": {},
   "source": [
    "## 用語\n",
    "\n",
    "* 活性化関数\n",
    "  * 複数のニューロンからあるニューロンへの入力は、全結合などの線形変換で1つにまとめられる。活性化関数は、その数値を次のニューロンに「どのように出力するか」、つまり「どう活性化するか」が定義されたものだ。\n",
    "    * 活性化関数は数式自体よりどのような形状のグラフになっているかが重要\n",
    "  * この活性化関数による返還んは`非線形変換`である必要がある。\n",
    "    * なぜなら、何層もニューロンを重ねていったときに線形だと多層にする意味がなくなるため。\n",
    "  * 活性化関数の例\n",
    "    * ステップ関数、シグモイド関数、LeRU関数など\n",
    "  * ただし、出力層に関しては次の層がないため次のような関数が使われる。\n",
    "    * 恒等関数\n",
    "      * 入力をそのまま出力する。\n",
    "      * 回帰問題で使われる\n",
    "    * ソフトマックス関数\n",
    "      * ニューラルネットの出力を0～1の範囲に正規化する。つまり確率と解釈できる。\n",
    "      * 分類問題で使われる"
   ]
  },
  {
   "cell_type": "code",
   "execution_count": 1,
   "metadata": {},
   "outputs": [],
   "source": [
    "import sys, os\n",
    "\n",
    "sys.path.append(os.pardir)\n",
    "from dataset.mnist import load_mnist\n",
    "import numpy as np\n",
    "from PIL import Image\n",
    "import pickle\n",
    "from common.functions import sigmoid, softmax"
   ]
  },
  {
   "cell_type": "code",
   "execution_count": 2,
   "metadata": {},
   "outputs": [
    {
     "name": "stdout",
     "output_type": "stream",
     "text": [
      "5\n",
      "(784,)\n",
      "(28, 28)\n"
     ]
    },
    {
     "data": {
      "image/png": "[encoded data removed]",
      "text/plain": [
       "<PIL.Image.Image image mode=L size=28x28>"
      ]
     },
     "metadata": {},
     "output_type": "display_data"
    }
   ],
   "source": [
    "\n",
    "def img_show(img):\n",
    "    pil_img = Image.fromarray(np.uint8(img))\n",
    "    pil_img.show()\n",
    "\n",
    "\n",
    "# normalize:入力画像を0~1に正規化する。\n",
    "# flatten:画像を1次元配列に変換する\n",
    "# noe_hot_label:ラベルをone hot表現（0か1)にする\n",
    "#(訓練画像、訓練ラベル),(テスト画像,テストラベル)を出力する\n",
    "(x_train, t_train), (x_test, t_test) = load_mnist(flatten=True, normalize=False)\n",
    "img = x_train[0]\n",
    "label = t_train[0]\n",
    "print(label)\n",
    "\n",
    "# 1次元の配列の次元数が表示\n",
    "print(img.shape)\n",
    "# 2次元に再変換\n",
    "img = img.reshape(28, 28)\n",
    "# 2次元配列の次元数が表示\n",
    "print(img.shape)\n",
    "img_show(img)\n"
   ]
  },
  {
   "cell_type": "code",
   "execution_count": 3,
   "metadata": {},
   "outputs": [
    {
     "name": "stdout",
     "output_type": "stream",
     "text": [
      "W1:(784, 50), W2:(50, 100), W3:(100, 10)\n",
      "Accuracy:0.9352\n"
     ]
    }
   ],
   "source": [
    "\n",
    "\n",
    "\n",
    "def get_data():\n",
    "    (x_train, t_train), (x_test, t_test) = load_mnist(\n",
    "        normalize=True, flatten=True, one_hot_label=False\n",
    "    )\n",
    "    # テスト画像とラベルだけを返す\n",
    "    return x_test, t_test\n",
    "\n",
    "\n",
    "def init_network():\n",
    "    \"\"\"学習済みネットワークを取得\n",
    "\n",
    "    Returns:\n",
    "        _type_: _description_\n",
    "    \"\"\"\n",
    "    with open(\"./ch03/sample_weight.pkl\", \"rb\") as f:\n",
    "        network = pickle.load(f)\n",
    "    print(f'W1:{network[\"W1\"].shape}, W2:{network[\"W2\"].shape}, W3:{network[\"W3\"].shape}')\n",
    "    return network\n",
    "\n",
    "\n",
    "def predict(network, x):\n",
    "    W1, W2, W3 = network[\"W1\"], network[\"W2\"], network[\"W3\"]\n",
    "    b1, b2, b3 = network[\"b1\"], network[\"b2\"], network[\"b3\"]\n",
    "    # 1層目の処理\n",
    "    a1 = np.dot(x, W1) + b1\n",
    "    z1 = sigmoid(a1)# 活性化関数\n",
    "    # 2層目の処理\n",
    "    a2 = np.dot(z1, W2) + b2\n",
    "    z2 = sigmoid(a2)# 活性化関数\n",
    "    # 3層目（出力層）の処理\n",
    "    a3 = np.dot(z2, W3) + b3\n",
    "    y = softmax(a3)# 分類問題に使うためソフトマックス関数を使う。\n",
    "\n",
    "    return y\n",
    "\n",
    "# テスト画像とラベルを取得\n",
    "x, t = get_data()\n",
    "# xには28×28の画像が10000枚格納されている。\n",
    "# 実際には画像は1次元に変換されるので(10000, 784)というサイズになっている\n",
    "\n",
    "# 学習済みのパラメータを取得\n",
    "network = init_network()\n",
    "batch_size = 100\n",
    "accuracy_cnt = 0\n",
    "# 分類データが正確に分類できるかを推論する\n",
    "for i in range(0,len(x),batch_size):\n",
    "    # iからi+batch_sizeのデータを取得\n",
    "    x_batch = x[i:i+batch_size]\n",
    "    #print(x_batch.shape)\n",
    "    # テスト画像を学習モデルに適用し、分類させる。\n",
    "    y_batch = predict(network, x_batch)\n",
    "    # yリストの中から、最大の確率を取得\n",
    "    # axis=1とすることで、多次元配列の1次元目の中から最大の物を抽出\n",
    "    p = np.argmax(y_batch,axis=1)\n",
    "    # 最大確率となるインデックスがラベルデータと一致するか判定\n",
    "    #　p==t[i:i+batch_size]とすると、pに一致する部分がTrue,不一致がFalseとなる。\n",
    "    # このようなboolの配列が返却され、そのsumを取るとTrueの個数として取得できる。\n",
    "    accuracy_cnt+=np.sum(p==t[i:i+batch_size])\n",
    "\n",
    "#「分類が成功した数/入力データのサイズ」で精度を算出\n",
    "print(\"Accuracy:\" + str(float(accuracy_cnt) / len(x)))\n"
   ]
  },
  {
   "cell_type": "code",
   "execution_count": null,
   "metadata": {},
   "outputs": [],
   "source": []
  }
 ],
 "metadata": {
  "kernelspec": {
   "display_name": "Python 3.8.10 64-bit",
   "language": "python",
   "name": "python3"
  },
  "language_info": {
   "codemirror_mode": {
    "name": "ipython",
    "version": 3
   },
   "file_extension": ".py",
   "mimetype": "text/x-python",
   "name": "python",
   "nbconvert_exporter": "python",
   "pygments_lexer": "ipython3",
   "version": "3.8.10 (default, Jun 22 2022, 20:18:18) \n[GCC 9.4.0]"
  },
  "orig_nbformat": 4,
  "vscode": {
   "interpreter": {
    "hash": "916dbcbb3f70747c44a77c7bcd40155683ae19c65e1c03b4aa3499c5328201f1"
   }
  }
 },
 "nbformat": 4,
 "nbformat_minor": 2
}
